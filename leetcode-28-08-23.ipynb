{
 "cells": [
  {
   "cell_type": "code",
   "execution_count": 2,
   "id": "b147c388-f2b8-4ef7-9061-5bc0e92766b2",
   "metadata": {},
   "outputs": [],
   "source": [
    "def main():\n",
    "    arr = [0,1,0,2,1,2]"
   ]
  },
  {
   "cell_type": "code",
   "execution_count": null,
   "id": "be5741b2-546d-4cd9-b69d-72ceb22085a2",
   "metadata": {},
   "outputs": [],
   "source": [
    "if __ == \"__main__\":\n",
    "    main()"
   ]
  }
 ],
 "metadata": {
  "kernelspec": {
   "display_name": "Python 3 (ipykernel)",
   "language": "python",
   "name": "python3"
  },
  "language_info": {
   "codemirror_mode": {
    "name": "ipython",
    "version": 3
   },
   "file_extension": ".py",
   "mimetype": "text/x-python",
   "name": "python",
   "nbconvert_exporter": "python",
   "pygments_lexer": "ipython3",
   "version": "3.11.3"
  }
 },
 "nbformat": 4,
 "nbformat_minor": 5
}
